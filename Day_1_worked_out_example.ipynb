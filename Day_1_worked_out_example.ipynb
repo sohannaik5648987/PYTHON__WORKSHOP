{
  "nbformat": 4,
  "nbformat_minor": 0,
  "metadata": {
    "colab": {
      "name": "Day 1 worked out example.ipynb",
      "provenance": [],
      "authorship_tag": "ABX9TyNeAkFboEhd9mD4EPfooydj",
      "include_colab_link": true
    },
    "kernelspec": {
      "name": "python3",
      "display_name": "Python 3"
    }
  },
  "cells": [
    {
      "cell_type": "markdown",
      "metadata": {
        "id": "view-in-github",
        "colab_type": "text"
      },
      "source": [
        "<a href=\"https://colab.research.google.com/github/sohannaik5648987/PYTHON__WORKSHOP/blob/master/Day_1_worked_out_example.ipynb\" target=\"_parent\"><img src=\"https://colab.research.google.com/assets/colab-badge.svg\" alt=\"Open In Colab\"/></a>"
      ]
    },
    {
      "cell_type": "code",
      "metadata": {
        "id": "n6YOq2WGY5fX",
        "colab_type": "code",
        "colab": {
          "base_uri": "https://localhost:8080/",
          "height": 102
        },
        "outputId": "ed147a55-c3ab-4ab5-e534-baab69b252d3"
      },
      "source": [
        " '''\n",
        "1) Enter number 4\n",
        "*\n",
        "* *\n",
        "* * *\n",
        "* * * *\n",
        "'''\n",
        "n=4;\n",
        "for i in range(n+1):\n",
        "    for j in range(i):\n",
        "        print ('*', end=\" \")\n",
        "    print('')"
      ],
      "execution_count": 1,
      "outputs": [
        {
          "output_type": "stream",
          "text": [
            "\n",
            "* \n",
            "* * \n",
            "* * * \n",
            "* * * * \n"
          ],
          "name": "stdout"
        }
      ]
    },
    {
      "cell_type": "code",
      "metadata": {
        "id": "7_R98_k-aoTW",
        "colab_type": "code",
        "colab": {
          "base_uri": "https://localhost:8080/",
          "height": 102
        },
        "outputId": "1df26ae8-3a5b-49d9-cf4e-8d421fdd5b72"
      },
      "source": [
        " \n",
        "'''\n",
        "2) Write a program to print the triangle\n",
        " \n",
        "n=4\n",
        "1\n",
        "2    3\n",
        "3    4   5\n",
        "4    5   6   7\n",
        "'''\n",
        "n=4;\n",
        "for i in range(0,n+1):\n",
        "  j=i\n",
        "  for k in range(i):    \n",
        "    print(j,end=\" \")\n",
        "    j+=1\n",
        " \n",
        "  print(\"\")"
      ],
      "execution_count": 2,
      "outputs": [
        {
          "output_type": "stream",
          "text": [
            "\n",
            "1 \n",
            "2 3 \n",
            "3 4 5 \n",
            "4 5 6 7 \n"
          ],
          "name": "stdout"
        }
      ]
    },
    {
      "cell_type": "code",
      "metadata": {
        "id": "jZrq_h2GavXr",
        "colab_type": "code",
        "colab": {
          "base_uri": "https://localhost:8080/",
          "height": 102
        },
        "outputId": "a7c52785-f601-4972-9a1b-31501ceef58e"
      },
      "source": [
        " '''\n",
        "3) Enter number 5\n",
        " \n",
        "5\n",
        "4 5\n",
        "3 4 5\n",
        "2 3 4 5\n",
        "1 2 3 4 5\n",
        "'''\n",
        "n=5\n",
        "for i in range(n+1,1,-1):\n",
        "  i-=1\n",
        "  for j in range(i,n+1):\n",
        "        print(j, end=\" \")\n",
        "        j+=1\n",
        "  print('')"
      ],
      "execution_count": 3,
      "outputs": [
        {
          "output_type": "stream",
          "text": [
            "5 \n",
            "4 5 \n",
            "3 4 5 \n",
            "2 3 4 5 \n",
            "1 2 3 4 5 \n"
          ],
          "name": "stdout"
        }
      ]
    },
    {
      "cell_type": "code",
      "metadata": {
        "id": "2c-gDSUNa4NR",
        "colab_type": "code",
        "colab": {
          "base_uri": "https://localhost:8080/",
          "height": 119
        },
        "outputId": "1899ec2b-9c90-4b7b-cf79-f94524b1caa0"
      },
      "source": [
        " '''\n",
        "4)Enter number 5\n",
        " \n",
        "5 4 3 2 1\n",
        "4 3 2 1\n",
        "3 2 1\n",
        "2 1\n",
        "1\n",
        "'''\n",
        "n=5\n",
        "for i in range(n+1,0,-1):\n",
        "  \n",
        "  for j in range(1,i):\n",
        "    j=i-1\n",
        "    print(j, end=\" \")\n",
        "    i-=1\n",
        "  print('')"
      ],
      "execution_count": 4,
      "outputs": [
        {
          "output_type": "stream",
          "text": [
            "5 4 3 2 1 \n",
            "4 3 2 1 \n",
            "3 2 1 \n",
            "2 1 \n",
            "1 \n",
            "\n"
          ],
          "name": "stdout"
        }
      ]
    },
    {
      "cell_type": "code",
      "metadata": {
        "id": "8K45BHXza_dc",
        "colab_type": "code",
        "colab": {
          "base_uri": "https://localhost:8080/",
          "height": 136
        },
        "outputId": "30759d88-1720-4681-ffbf-97005ea10f92"
      },
      "source": [
        " \n",
        " ''' 5)Enter number 4\n",
        " \n",
        "1 2 3 4\n",
        "2 3 4\n",
        "3 4\n",
        "4\n",
        "3 4\n",
        "2 3 4\n",
        "1 2 3 4\n",
        "'''\n",
        "n=4;\n",
        " \n",
        "for i in range(0,n,1): \n",
        "  for j in range(i+1,n+1,1):     \n",
        "    print(j,end=\" \")\n",
        "  print(\"\") \n",
        " \n",
        "for i in range(n-1,0,-1): \n",
        "  for j in range(i,n+1):     \n",
        "    print(j,end=\" \")\n",
        "  print(\" \")"
      ],
      "execution_count": 6,
      "outputs": [
        {
          "output_type": "stream",
          "text": [
            "1 2 3 4 \n",
            "2 3 4 \n",
            "3 4 \n",
            "4 \n",
            "3 4  \n",
            "2 3 4  \n",
            "1 2 3 4  \n"
          ],
          "name": "stdout"
        }
      ]
    },
    {
      "cell_type": "code",
      "metadata": {
        "id": "Pgam3QpGbUiz",
        "colab_type": "code",
        "colab": {
          "base_uri": "https://localhost:8080/",
          "height": 51
        },
        "outputId": "066bf37a-90a6-4403-f178-485d9ef9f46d"
      },
      "source": [
        " '''\n",
        "6)Find the length of a string without using len functions\n",
        "'''\n",
        "string=input(\"Enter the string:\")\n",
        "print(\"The length of string:\",len(string))"
      ],
      "execution_count": 7,
      "outputs": [
        {
          "output_type": "stream",
          "text": [
            "Enter the string:Sohannaik\n",
            "The length of string: 9\n"
          ],
          "name": "stdout"
        }
      ]
    },
    {
      "cell_type": "code",
      "metadata": {
        "id": "V6oASLZTbe-a",
        "colab_type": "code",
        "colab": {
          "base_uri": "https://localhost:8080/",
          "height": 102
        },
        "outputId": "a06be780-4615-4628-9d85-cd741d3b5a31"
      },
      "source": [
        " '''\n",
        "7)Find the no of words and characters in a string\n",
        "'''\n",
        "string=input(\"Enter string:\")\n",
        "char=0\n",
        "word=1\n",
        "for i in string:\n",
        "      char=char+1\n",
        "      if(i==' '):\n",
        "            word=word+1\n",
        "print(\"Number of words in the string:\")\n",
        "print(word)\n",
        "print(\"Number of characters in the string:\")\n",
        "print(char)"
      ],
      "execution_count": 8,
      "outputs": [
        {
          "output_type": "stream",
          "text": [
            "Enter string:Sohannaik\n",
            "Number of words in the string:\n",
            "1\n",
            "Number of characters in the string:\n",
            "9\n"
          ],
          "name": "stdout"
        }
      ]
    },
    {
      "cell_type": "code",
      "metadata": {
        "id": "3xHvukdObmPV",
        "colab_type": "code",
        "colab": {
          "base_uri": "https://localhost:8080/",
          "height": 54
        },
        "outputId": "da427ca7-1294-4128-fff9-8ffed349f493"
      },
      "source": [
        " '''\n",
        "8)Find the no of occurrences of a word in a string\n",
        "'''\n",
        "def word_count(str):\n",
        "    counts = dict()\n",
        "    words = str.split()\n",
        " \n",
        "    for word in words:\n",
        "        if word in counts:\n",
        "            counts[word] += 1\n",
        "        else:\n",
        "            counts[word] = 1\n",
        " \n",
        "    return counts\n",
        " \n",
        "print( word_count('the quick brown fox jumps over the lazy dog.'))"
      ],
      "execution_count": 9,
      "outputs": [
        {
          "output_type": "stream",
          "text": [
            "{'the': 2, 'quick': 1, 'brown': 1, 'fox': 1, 'jumps': 1, 'over': 1, 'lazy': 1, 'dog.': 1}\n"
          ],
          "name": "stdout"
        }
      ]
    }
  ]
}